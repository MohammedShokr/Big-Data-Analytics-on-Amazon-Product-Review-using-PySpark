{
  "cells": [
    {
      "cell_type": "markdown",
      "metadata": {},
      "source": [
        "In this notebook, we have successfully developed a robust recommendation system ,using **Alternating Least Squares (ALS)** method, tailored specifically for Amazon users. By analyzing their activity and preferences, our system effectively suggests five highly relevant products for each individual customer."
      ]
    },
    {
      "cell_type": "markdown",
      "metadata": {
        "id": "sFpPKRaFMHH1"
      },
      "source": [
        "# Imports and installations"
      ]
    },
    {
      "cell_type": "code",
      "execution_count": 32,
      "metadata": {
        "colab": {
          "base_uri": "https://localhost:8080/"
        },
        "id": "OXMcHR-OkEyN",
        "outputId": "1165c17f-e163-4618-d7b2-47f13167314b"
      },
      "outputs": [
        {
          "name": "stdout",
          "output_type": "stream",
          "text": [
            "Requirement already satisfied: pyspark in /usr/local/lib/python3.7/dist-packages (3.2.1)\n",
            "Requirement already satisfied: py4j==0.10.9.3 in /usr/local/lib/python3.7/dist-packages (from pyspark) (0.10.9.3)\n"
          ]
        }
      ],
      "source": [
        "!pip install pyspark"
      ]
    },
    {
      "cell_type": "code",
      "execution_count": 55,
      "metadata": {
        "colab": {
          "base_uri": "https://localhost:8080/"
        },
        "id": "-tr8VnVH2g2D",
        "outputId": "83edcc94-f3ac-4c31-b72b-cc86e33716f5"
      },
      "outputs": [
        {
          "name": "stdout",
          "output_type": "stream",
          "text": [
            "Drive already mounted at /content/drive; to attempt to forcibly remount, call drive.mount(\"/content/drive\", force_remount=True).\n"
          ]
        }
      ],
      "source": [
        "from google.colab import drive\n",
        "drive.mount('/content/drive')\n",
        "METADATA_PATH = '/content/drive/Shareddrives/CIE/BigData_Final_Project/Data/meta/meta_Cell_Phones_and_Accessories.json'\n",
        "REVIEWS_PATH = '/content/drive/Shareddrives/CIE/BigData_Final_Project/Data/reviews/Cell_Phones_and_Accessories.json'"
      ]
    },
    {
      "cell_type": "code",
      "execution_count": 34,
      "metadata": {
        "id": "17sue8OIB4iB"
      },
      "outputs": [],
      "source": [
        "from pyspark.sql import SparkSession\n",
        "from pyspark.sql.functions import monotonically_increasing_id\n",
        "from pyspark.ml import Pipeline\n",
        "from pyspark.ml.evaluation import RegressionEvaluator\n",
        "from pyspark.ml.recommendation import ALS"
      ]
    },
    {
      "cell_type": "code",
      "execution_count": 35,
      "metadata": {
        "id": "99zo74GBCAXc"
      },
      "outputs": [],
      "source": [
        "spark = SparkSession.builder.appName('Suggestion').getOrCreate() # creating spark session for the application"
      ]
    },
    {
      "cell_type": "markdown",
      "metadata": {
        "id": "Flg6jou-MNKb"
      },
      "source": [
        "# Data loading and preprocessing"
      ]
    },
    {
      "cell_type": "code",
      "execution_count": 56,
      "metadata": {
        "colab": {
          "base_uri": "https://localhost:8080/"
        },
        "id": "6635VTBxCV7g",
        "outputId": "77d19b03-792e-4ff4-ff4d-f0ce0e6bfdbf"
      },
      "outputs": [
        {
          "name": "stdout",
          "output_type": "stream",
          "text": [
            "duplicate reviews dataframe\n",
            "+--------------+----------+-----+\n",
            "|    reviewerID|      asin|count|\n",
            "+--------------+----------+-----+\n",
            "|A2RDOT92PMAX45|B017XC69FM|   49|\n",
            "|A2KRYQY306EGN4|B00SVY5872|   20|\n",
            "| A8Z3WD5ZWBOO7|B0085R2F3K|   18|\n",
            "|A1CCZ468PP35LT|B009AN211O|   15|\n",
            "|A150I4QWXT8JPO|B004MF3IA8|   11|\n",
            "|A22ICJNN4QESPR|B000VUGZIK|   10|\n",
            "|A33775AIB1A664|B008U0XSY2|   10|\n",
            "|A1YNGJAT1TMFZO|B009PYUOTO|   10|\n",
            "| AI380SRCQDHIJ|B001HDDMC2|    9|\n",
            "|A2BXP3G6NI6NXQ|B00SVY5872|    8|\n",
            "|A33TED651NAXWU|B0006TIA8Y|    8|\n",
            "|A1E2L0XMC1BYQO|B00O3X6BIA|    8|\n",
            "|A33BZ5LG42U685|B01FGIIOYE|    8|\n",
            "|A365BJAGU86XY8|B00IZ1XJ3Q|    7|\n",
            "|A1LA4K5JF78BER|B00Z7S3804|    7|\n",
            "|A20IMBRGCWEV9R|B005F9XNN2|    7|\n",
            "|A33BZ5LG42U685|B01GF5D0TQ|    7|\n",
            "| A12LH2100CKQO|B004MF3IA8|    7|\n",
            "|A31P3YO3OT6XKT|B00IZ1XJ3Q|    6|\n",
            "|A13LXFPP36COEQ|B004MF3IA8|    6|\n",
            "+--------------+----------+-----+\n",
            "only showing top 20 rows\n",
            "\n",
            "metadata dataframe\n",
            "+--------+---------+----------+--------------------+--------------------+------------------+--------------------+--------------------+--------------------+--------------------+-----+--------------------+------------+--------------------+-----+--------------------+\n",
            "|also_buy|also_view|      asin|               brand|            category|              date|         description|             details|             feature|            main_cat|price|                rank|similar_item|               tech1|tech2|               title|\n",
            "+--------+---------+----------+--------------------+--------------------+------------------+--------------------+--------------------+--------------------+--------------------+-----+--------------------+------------+--------------------+-----+--------------------+\n",
            "|      []|       []|6303195164|                    |[Cell Phones & Ac...|                  |                  []|{null, null, null...|                  []|         Movies & TV|     |557,379 in Movies...|            |                    |     |Trollies Sing a L...|\n",
            "|      []|       []|630524412X|     Maribel Guardia|[Cell Phones & Ac...|                  |                  []|{null, null, null...|                  []|         Movies & TV|     |1,024,449 in Movi...|            |                    |     |         La Pura VHS|\n",
            "|      []|       []|6310200240|                    |[Cell Phones & Ac...|                  |[New items to giv...|{null, null, 11.5...|                  []|               Books|     |5,315,017 in Books (|            |                    |     |Leopard Thanksgiv...|\n",
            "|      []|       []|6786501710|          Live2Pedal|[Cell Phones & Ac...|                  |[A brand-new, unu...|{null, null, null...|[Protect your pho...|Cell Phones & Acc...|     |[\">#6,368,825 in ...|            |                    |     |Puppies Faceplate...|\n",
            "|      []|       []|6786501273|   wirelessoutletusa|[Cell Phones & Ac...|                  |[A brand-new, unu...|{null, null, null...|[Protect your pho...|Cell Phones & Acc...|     |[\">#2,672,454 in ...|            |                    |     |White Wolf Facepl...|\n",
            "|      []|       []|6789300104|   wirelessoutletusa|[Cell Phones & Ac...|                  |[A brand-new, unu...|{null, null, null...|[Protect your pho...|Cell Phones & Acc...|     |[\">#2,997,672 in ...|            |                    |     |Camo Duck Grass R...|\n",
            "|      []|       []|6786501052|             Samsung|[Cell Phones & Ac...|                  |[A brand-new, unu...|{null, null, null...|[Protect your pho...|Cell Phones & Acc...|     |[\">#2,773,172 in ...|            |                    |     |Camoflague Camo U...|\n",
            "|      []|       []|7030131746|            Motorola|                  []|                  |[Product Descript...|{null, null, null...|                  []|Cell Phones & Acc...|     |                  []|            |                    |     |Motorola H700 Bla...|\n",
            "|      []|       []|7122120015|       Juicy Couture|[Cell Phones & Ac...|                  |[Apple Recommends...|{null, null, null...|[Lightweight poly...|Cell Phones & Acc...|     |[\">#1,599,758 in ...|            |                    |     |Juicy Couture Dur...|\n",
            "|      []|       []|730214074X|         edealsaving|[Cell Phones & Ac...|                  |                  []|{null, null, null...|                  []|Cell Phones & Acc...|     |[\">#4,100,584 in ...|            |                    |     |Full Diamond Blac...|\n",
            "|      []|       []|7391002801|           Accessory|[Cell Phones & Ac...|September 22, 2014|[Silver Elegant B...|{null, null, null...|[Item is Brand Ne...|Tools & Home Impr...|     |[\">#1,978,999 in ...|            |                    |     |Silver Elegant Bu...|\n",
            "|      []|       []|7506350564|         Sole Trader|[Cell Phones & Ac...|                  |   [Iphone case X 1]|{null, null, null...|[Fit for iphone 4...|Cell Phones & Acc...|     |[\">#2,162,555 in ...|            |                    |     |Sole Trader at Ne...|\n",
            "|      []|       []|7506284774|VIP-Top Sales Wat...|                  []|                  |[This watch phone...|{null, null, null...|[Watch, cell phon...|Cell Phones & Acc...|     |                  []|            |                    |     |VIP Watch Cell Ph...|\n",
            "|      []|       []|7508269438|    Same As Otterbox|[Cell Phones & Ac...|                  |[Three layers of ...|{null, null, null...|[Ratcheting belt ...|Cell Phones & Acc...|     |[\">#2,214,149 in ...|            |                    |     |Smile Case Full P...|\n",
            "|      []|       []|7508492919|             ELEGANI|[Cell Phones & Ac...|                  |[, Elegani Butter...|{null, null, null...|[Fashionable with...|Cell Phones & Acc...|     |[\">#228,544 in Ce...|            |                    |     |MinisDesign 3d Bl...|\n",
            "|      []|       []|751182059X|            Asecshop|[Cell Phones & Ac...|                  |                  []|{null, null, null...|[Premium Quality ...|Cell Phones & Acc...|     |[\">#7,334,739 in ...|            |                    |     |HTC Sensation 4G ...|\n",
            "|      []|       []|751480241X|              iGlaze|[Cell Phones & Ac...|     June 12, 2011|[This  lovely pan...|{null, null, null...|[Innovative ultra...|Portable Audio & ...|     |[\">#2,285,649 in ...|            | class=\"a-keyvalu...|     |iGlaze Animal Gra...|\n",
            "|      []|       []|7532385086|             Generic|[Cell Phones & Ac...|                  |[Product Descript...|{null, null, null...|[Rubberized Purpl...|Cell Phones & Acc...|     |[\">#553,803 in Ce...|            |                    |     |Rubberized Purple...|\n",
            "|      []|       []|753844274X|               Speck|[Cell Phones & Ac...|                  |[Cookies? Leave t...|{null, null, null...|[Fits iPhone 3G &...|Cell Phones & Acc...|     |[\">#1,412,886 in ...|            |                    |     |Speck CandyShell ...|\n",
            "|      []|       []|7538425780|     Handheldfashion|[Cell Phones & Ac...|                  |                  []|{null, null, null...|                  []|Cell Phones & Acc...|     |[\">#7,243,509 in ...|            |                    |     |Pink Raining Hear...|\n",
            "+--------+---------+----------+--------------------+--------------------+------------------+--------------------+--------------------+--------------------+--------------------+-----+--------------------+------------+--------------------+-----+--------------------+\n",
            "only showing top 20 rows\n",
            "\n",
            "reviews dataframe\n",
            "+----------+-------+--------------------+-----------+--------------------+----------------+--------------------+--------------------+--------------+--------+----+\n",
            "|      asin|overall|          reviewText| reviewTime|          reviewerID|    reviewerName|               style|             summary|unixReviewTime|verified|vote|\n",
            "+----------+-------+--------------------+-----------+--------------------+----------------+--------------------+--------------------+--------------+--------+----+\n",
            "|B00UBL34UQ|    5.0|Update: I have up...|03 24, 2018|A00007664HEMMTK5IAWX| Amazon Customer|{null,  Space Gra...|Updated....Excell...|    1521849600|    true|null|\n",
            "|B016AG5DR2|    5.0|Looks great fits ...|02 19, 2017|A0024936S1WI02OHH9DP|     JoAnna Bobo|{null,  Gold, nul...|          Great buy!|    1487462400|   false|null|\n",
            "|B008LFTCAK|    3.0|It's nothing agai...| 09 5, 2014|A0035644GWEG3A8V1G74|   Monica Thomas|{null,  Clear, nu...|                  eh|    1409875200|   false|null|\n",
            "|B0093NX8I6|    1.0|Honestly i didn't...|02 22, 2014|A0108987Z2DKD6QAJ8XY|        Cindy S.|{null,  Black & W...|   dont recommend it|    1393027200|    true|null|\n",
            "|B004MF3IA8|    5.0|Fast delivery. Ni...|09 11, 2017|A0119914KLNXVDLIQR74|          May Z.|                null|                Nice|    1505088000|    true|null|\n",
            "|B00XVU4IPO|    5.0|Excellent quality...|04 30, 2018|A01209551EMO49SL6RJ0|          Sanm23|                null|Excellent quality...|    1525046400|    true|null|\n",
            "|B006WSZST2|    5.0|This case is very...| 01 9, 2013|A0129649YW0C01QZKX5N|              LK|                null|         Pretty case|    1357689600|    true|null|\n",
            "|B00ELFDIFY|    1.0|This was terrible...|08 12, 2015|A013527277VV6GXPUZFX|         Desiree|{null,  white, nu...|         don't do it|    1439337600|    true|null|\n",
            "|B017DCTJDG|    5.0|Den outta den. Pl...|04 21, 2016|A0169448IX9494FACJ98|   Michael Scott|                null|cord feels sturdy...|    1461196800|    true|null|\n",
            "|B00A82WR2E|    4.0|Looking for a sim...|12 29, 2012|A01885086RNVG0Q7WV53|          MOMof4|{null,  Black, nu...|No girly colors b...|    1356739200|    true|null|\n",
            "|B01FJVTOMO|    5.0|resistant for my ...| 11 2, 2016|A0194004D8C18RZVRQ5R|          cortez|{null,  M459-Blac...|          Five Stars|    1478044800|    true|null|\n",
            "|B01G4A025M|    5.0|perfect size. hol...|01 28, 2018|A020435339XPJV4ZR87T| Amazon Customer|{null,  Black, nu...|perfect size. hol...|    1517097600|    true|null|\n",
            "|B00PMD85Z2|    1.0|Does not stay on ...|05 16, 2016|A0206237Y9WNDF0GWVPZ|   Carey Johnson|                null|            One Star|    1463356800|    true|null|\n",
            "|B00OY5T3OQ|    2.0|Garbage. Does not...|03 15, 2016|A0220159ZRNBTRKLG08H|          DavidA|{null,  Glass E2E...|    Don't get for 6s|    1458000000|    true|null|\n",
            "|B004AFVEOC|    1.0|The battery doesn...|05 29, 2013|A02202751LTPUVA3S1PD|         Renaldo|                null|    Battery was dead|    1369785600|    true|null|\n",
            "|B00NJEGHHO|    5.0|     Great product..| 01 7, 2016|A0226023O2S8INTXDD23| Amazon Customer|{null,  Black, nu...|          Five Stars|    1452124800|    true|null|\n",
            "|B01CY0QVOM|    1.0|This product is i...|12 25, 2017|A0232309XTWAG6FEGW93|Gary MacChristen|{null,  Yellow, n...|   NOT WATERPROOF...|    1514160000|    true|null|\n",
            "|B017IM1PYM|    5.0|These cables are ...| 04 4, 2018|A02330897AW3EC3ZCH3T| Jessica Willcut|{null,  Black, nu...|OUTSTANDING QUALI...|    1522800000|    true|null|\n",
            "|B013TRLC6G|    1.0|Poor product . Bo...|06 29, 2016|A0272626235GGR3IYMIB| Amazon Customer|{null,  Mint Gree...|Poor product. Bot...|    1467158400|    true|null|\n",
            "|B00ZBKE2LM|    5.0|Screen Protection...| 05 5, 2017|A0273990TGLE0LLF0H0B|         Marisol|                null|You can't tell it...|    1493942400|    true|null|\n",
            "+----------+-------+--------------------+-----------+--------------------+----------------+--------------------+--------------------+--------------+--------+----+\n",
            "only showing top 20 rows\n",
            "\n"
          ]
        }
      ],
      "source": [
        "# Read the input data as DataFrame\n",
        "meta = spark.read.json(METADATA_PATH).drop(\"fit\", \"imageURL\", \"imageURLHighRes\", )\n",
        "reviews = spark.read.json(REVIEWS_PATH).drop(\"image\")\n",
        "ids = ['reviewerID', 'asin']\n",
        "# Get a dataframe consisting only of reviews that are duplicated\n",
        "print('duplicate reviews dataframe')\n",
        "reviews \\\n",
        "    .groupby(ids) \\\n",
        "    .count() \\\n",
        "    .where('count > 1') \\\n",
        "    .sort('count', ascending=False) \\\n",
        "    .show()\n",
        "# Drop the duplicate reviews\n",
        "reviews = reviews.dropDuplicates(subset=ids)\n",
        "print(\"metadata dataframe\")\n",
        "meta.show()\n",
        "print(\"reviews dataframe\")\n",
        "reviews.show()"
      ]
    },
    {
      "cell_type": "code",
      "execution_count": 47,
      "metadata": {
        "id": "HzvSEXljn5iy"
      },
      "outputs": [],
      "source": [
        "import pyspark.sql.functions as F\n",
        "from pyspark.sql.window import Window\n",
        "from pyspark.sql.functions import col, explode\n"
      ]
    },
    {
      "cell_type": "code",
      "execution_count": 57,
      "metadata": {
        "colab": {
          "base_uri": "https://localhost:8080/"
        },
        "id": "zwYtMjxNppYH",
        "outputId": "25cfab17-c23b-455b-d696-92b94f63ea7b"
      },
      "outputs": [
        {
          "name": "stdout",
          "output_type": "stream",
          "text": [
            "reviewers dataframe\n",
            "+--------------------+-------------+\n",
            "|          reviewerID|reviewerIDint|\n",
            "+--------------------+-------------+\n",
            "|A0000148KSJ81F2E3O7V|            1|\n",
            "|A000033826RVJH496D4A|            2|\n",
            "|A0000378ZNUHTQUDNNHR|            3|\n",
            "|A00007664HEMMTK5IAWX|            4|\n",
            "|A00015228CUPGPF957DS|            5|\n",
            "|A0001528BGUBOEVR6T5U|            6|\n",
            "|A0001598OL7FAN6XNMK9|            7|\n",
            "|A0001624SO9RHBP4B4SE|            8|\n",
            "|A0001624UKLQG4OFIM8X|            9|\n",
            "|A0001810QB3WX1VF3K6H|           10|\n",
            "|A0002246TPEHO0ED1SKA|           11|\n",
            "|A0002686ZNGLCW7JVER2|           12|\n",
            "|A00026909S42JM8RNF9T|           13|\n",
            "|A0002708WFPIPQT73GK8|           14|\n",
            "|A0002730WOKVUCGRLYJU|           15|\n",
            "|A000310449IR1VF4LABL|           16|\n",
            "|A0003196YPXUL31F0EFS|           17|\n",
            "|A0003214FKMKJE0PCW3D|           18|\n",
            "|A00032921HLX2KJJVXRS|           19|\n",
            "|A0003396AMQHRAN91T1G|           20|\n",
            "+--------------------+-------------+\n",
            "only showing top 20 rows\n",
            "\n",
            "products dataframe\n",
            "+----------+--------+\n",
            "|      asin|asin_int|\n",
            "+----------+--------+\n",
            "|6303195164|       1|\n",
            "|630524412X|       2|\n",
            "|6310200240|       3|\n",
            "|6786501052|       4|\n",
            "|6786501273|       5|\n",
            "|6786501710|       6|\n",
            "|6789300104|       7|\n",
            "|7030131746|       8|\n",
            "|7122120015|       9|\n",
            "|730214074X|      10|\n",
            "|7391002801|      11|\n",
            "|7506284774|      12|\n",
            "|7506350564|      13|\n",
            "|7508269438|      14|\n",
            "|7508492919|      15|\n",
            "|751182059X|      16|\n",
            "|751480241X|      17|\n",
            "|7532385086|      18|\n",
            "|7538425780|      19|\n",
            "|753844274X|      20|\n",
            "+----------+--------+\n",
            "only showing top 20 rows\n",
            "\n"
          ]
        }
      ],
      "source": [
        "reviews = reviews.select(\"reviewerID\", \"asin\", \"overall\")                         # select only the needed columns\n",
        "reviewers = reviews.select('reviewerID').distinct()                               # create a dataframe of the reviewers\n",
        "#reviewers = reviewers.withColumn(\"reviewerIDint\",monotonically_increasing_id())   # add column with int ids for each reviewer\n",
        "reviewers = reviewers.withColumn(\"reviewerIDint\", F.dense_rank().over(Window.orderBy(\"reviewerID\")))\n",
        "products = meta.select('asin').distinct()                                         # create dataframe with all products\n",
        "#products = products.withColumn(\"asin_int\",monotonically_increasing_id())          # add column with int ids for each product\n",
        "products = products.withColumn(\"asin_int\", F.dense_rank().over(Window.orderBy(\"asin\")))\n",
        "print('reviewers dataframe')\n",
        "reviewers.show()\n",
        "print('products dataframe')\n",
        "products.show()\n",
        "\n",
        "\n",
        "# reviews = reviews.withColumn(\"reviewerID\", F.dense_rank().over(Window.orderBy(\"reviewerID\")))\n",
        "# reviews = reviews.withColumn(\"asin\", F.dense_rank().over(Window.orderBy(\"asin\")))\n",
        "# reviews = reviews.\\\n",
        "#      withColumn('asin', col('asin').cast('integer')).\\\n",
        "#      withColumn('overall', col('overall').cast('float'))"
      ]
    },
    {
      "cell_type": "code",
      "execution_count": 58,
      "metadata": {
        "colab": {
          "base_uri": "https://localhost:8080/"
        },
        "id": "DKUyMVwgu0-8",
        "outputId": "dac2160f-e915-4ae9-aafb-231f7e0dbd40"
      },
      "outputs": [
        {
          "name": "stdout",
          "output_type": "stream",
          "text": [
            "+-------------+--------+-------+\n",
            "|reviewerIDint|asin_int|overall|\n",
            "+-------------+--------+-------+\n",
            "|      5749553|       1|    5.0|\n",
            "|      1212430|       2|    5.0|\n",
            "|      2794402|       3|    1.0|\n",
            "|      5841992|       5|    5.0|\n",
            "|      3769313|       9|    3.0|\n",
            "|      3159937|       9|    5.0|\n",
            "|       976430|      13|    5.0|\n",
            "|      3228516|      13|    3.0|\n",
            "|       738641|      13|    5.0|\n",
            "|      5088176|      14|    4.0|\n",
            "|      5664702|      14|    2.0|\n",
            "|       198649|      14|    4.0|\n",
            "|      1475692|      21|    3.0|\n",
            "|      4895155|      21|    1.0|\n",
            "|      5022333|      21|    5.0|\n",
            "|      5310714|      21|    4.0|\n",
            "|       144857|      21|    3.0|\n",
            "|      1722654|      21|    5.0|\n",
            "|      1751116|      21|    5.0|\n",
            "|      3350977|      21|    5.0|\n",
            "+-------------+--------+-------+\n",
            "only showing top 20 rows\n",
            "\n"
          ]
        }
      ],
      "source": [
        "meta = meta.join(products, on='asin').drop('asin')                                      # replace the string asin with int asin in metadata\n",
        "reviews = reviews.join(reviewers, reviews.reviewerID ==  reviewers.reviewerID,\"inner\")  # replace the string reviewerID with int one in reviews\n",
        "reviews = reviews.join(products, reviews.asin ==  products.asin,\"inner\")                # replace the string asin with int asin in reviews\n",
        "reviews = reviews.select(\"reviewerIDint\", \"asin_int\", \"overall\")                        # select the needed columns only\n",
        "reviews.show()                                                                          # the final reviews data"
      ]
    },
    {
      "cell_type": "code",
      "execution_count": 61,
      "metadata": {
        "colab": {
          "base_uri": "https://localhost:8080/"
        },
        "id": "4o1u0hckqSZO",
        "outputId": "943237a3-b707-4ea6-ebb9-7bd163d7584e"
      },
      "outputs": [
        {
          "name": "stdout",
          "output_type": "stream",
          "text": [
            "number of reviews per customer\n",
            "+-------------+-----+\n",
            "|reviewerIDint|count|\n",
            "+-------------+-----+\n",
            "|      4078474|  445|\n",
            "|       713753|  321|\n",
            "|      2637651|  273|\n",
            "|      4306451|  214|\n",
            "|      3188055|  205|\n",
            "|      4531190|  201|\n",
            "|      3783589|  192|\n",
            "|      1350975|  173|\n",
            "|      1614049|  164|\n",
            "|      2734786|  150|\n",
            "|      5089781|  149|\n",
            "|      5937255|  148|\n",
            "|      3052200|  147|\n",
            "|      1750438|  141|\n",
            "|      1508309|  138|\n",
            "|        64633|  138|\n",
            "|      3418971|  135|\n",
            "|      3385526|  133|\n",
            "|       405501|  132|\n",
            "|      4257604|  130|\n",
            "+-------------+-----+\n",
            "only showing top 20 rows\n",
            "\n",
            "number of reviews per product\n",
            "+--------+-----+\n",
            "|asin_int|count|\n",
            "+--------+-----+\n",
            "|  291010|13543|\n",
            "|   63142|13236|\n",
            "|  401980|13031|\n",
            "|  343536|11227|\n",
            "|  453402|10728|\n",
            "|  121580|10132|\n",
            "|  293405|10100|\n",
            "|  202643| 9282|\n",
            "|  385484| 9038|\n",
            "|  497913| 8890|\n",
            "|  326946| 8829|\n",
            "|  142966| 8760|\n",
            "|  103314| 8525|\n",
            "|  503107| 8307|\n",
            "|  299140| 8263|\n",
            "|  162471| 7992|\n",
            "|  247542| 7827|\n",
            "|   94377| 7417|\n",
            "|   65648| 7091|\n",
            "|  530657| 7046|\n",
            "+--------+-----+\n",
            "only showing top 20 rows\n",
            "\n"
          ]
        }
      ],
      "source": [
        "# count the number of reviews of each customer\n",
        "userId_ratings = reviews.groupBy(\"reviewerIDint\").count().orderBy('count', ascending=False)\n",
        "print('number of reviews per customer')\n",
        "userId_ratings.show()\n",
        "# count the number of reviews on each product\n",
        "product_ratings = reviews.groupBy(\"asin_int\").count().orderBy('count', ascending=False)\n",
        "print('number of reviews per product')\n",
        "product_ratings.show()"
      ]
    },
    {
      "cell_type": "markdown",
      "metadata": {
        "id": "P0kMBsTqMXsQ"
      },
      "source": [
        "# Model training"
      ]
    },
    {
      "cell_type": "code",
      "execution_count": 62,
      "metadata": {
        "colab": {
          "base_uri": "https://localhost:8080/"
        },
        "id": "NfjuGBAXqw7p",
        "outputId": "6e9b45b2-13f0-4589-c616-311f9745f4c8"
      },
      "outputs": [
        {
          "name": "stdout",
          "output_type": "stream",
          "text": [
            "Root-mean-square error = 5.914998678702433\n"
          ]
        }
      ],
      "source": [
        "# Split the data into train and test with ratios 80:20%\n",
        "(train, test) = reviews.randomSplit([0.8, 0.2], seed = 2022)\n",
        "\n",
        "# Create ALS model\n",
        "als = ALS(maxIter=5,\n",
        "          regParam=0.01,\n",
        "          userCol=\"reviewerIDint\", \n",
        "          itemCol=\"asin_int\", \n",
        "          ratingCol=\"overall\", \n",
        "          nonnegative = True, \n",
        "          implicitPrefs = False, \n",
        "          coldStartStrategy=\"drop\")\n",
        "model = als.fit(train)                                                                              # training the model on train data\n",
        "predictions = model.transform(test)                                                                 # predict on the test data\n",
        "evaluator = RegressionEvaluator(metricName=\"rmse\", labelCol=\"overall\", predictionCol=\"prediction\")  # create evaluator instance\n",
        "rmse = evaluator.evaluate(predictions)                                                              # evaluate the model\n",
        "print(\"Root-mean-square error = \" + str(rmse))"
      ]
    },
    {
      "cell_type": "code",
      "execution_count": 63,
      "metadata": {
        "colab": {
          "base_uri": "https://localhost:8080/"
        },
        "id": "YAkxc7I3q-0q",
        "outputId": "d4fcf175-c08a-4739-8e5f-6bd510053462"
      },
      "outputs": [
        {
          "name": "stdout",
          "output_type": "stream",
          "text": [
            "+-------------+--------+-------+----------+\n",
            "|reviewerIDint|asin_int|overall|prediction|\n",
            "+-------------+--------+-------+----------+\n",
            "|       903127|      15|    5.0| 1.0319918|\n",
            "|      1342734|      15|    5.0|  4.311965|\n",
            "|      2565362|      15|    5.0| 1.1018164|\n",
            "|      2663381|      15|    3.0| 11.158386|\n",
            "|      3290077|      15|    5.0| 0.9008183|\n",
            "|      3658486|      15|    2.0| 0.7995701|\n",
            "|      3989808|      15|    4.0| 1.2987003|\n",
            "|      4109756|      15|    4.0|  4.844903|\n",
            "|      4250327|      15|    3.0| 1.2805924|\n",
            "|      4591625|      15|    4.0| 0.5180634|\n",
            "|      4819754|      15|    5.0| 0.7426771|\n",
            "|      4964271|      15|    3.0| 1.0034156|\n",
            "|      5118714|      15|    3.0|  4.332898|\n",
            "|      5378424|      15|    5.0| 1.6532984|\n",
            "|      6026523|      15|    3.0| 0.6760611|\n",
            "|      6093974|      15|    5.0| 2.6550043|\n",
            "|       938025|      15|    1.0| 2.3123302|\n",
            "|      1007359|      15|    2.0|  10.51034|\n",
            "|      1226268|      15|    5.0|0.60709566|\n",
            "|      1696490|      15|    3.0|  12.04869|\n",
            "+-------------+--------+-------+----------+\n",
            "only showing top 20 rows\n",
            "\n"
          ]
        }
      ],
      "source": [
        "# Show the predictions\n",
        "predictions.show()"
      ]
    },
    {
      "cell_type": "markdown",
      "metadata": {
        "id": "_vFAmIkxMcmH"
      },
      "source": [
        "# Using the trained model to recommend prducts for customers"
      ]
    },
    {
      "cell_type": "code",
      "execution_count": null,
      "metadata": {
        "colab": {
          "base_uri": "https://localhost:8080/"
        },
        "id": "UMEC38RFSNYD",
        "outputId": "3a3dcf35-e483-4337-f625-e221df263b39"
      },
      "outputs": [
        {
          "name": "stderr",
          "output_type": "stream",
          "text": [
            "/usr/local/lib/python3.7/dist-packages/pyspark/sql/context.py:127: FutureWarning: Deprecated in 3.0.0. Use SparkSession.builder.getOrCreate() instead.\n",
            "  FutureWarning\n"
          ]
        }
      ],
      "source": [
        "# Recommend 5 products for each customer\n",
        "nrecommendations = model.recommendForAllUsers(5)\n",
        "nrecommendations.limit(5).show()"
      ]
    },
    {
      "cell_type": "code",
      "execution_count": null,
      "metadata": {
        "id": "o9bR_q9kTRb6"
      },
      "outputs": [],
      "source": [
        "# Re-organize the recommendations for visualization\n",
        "nrecommendations = nrecommendations.withColumn(\"rec_exp\", explode(\"recommendations\")).select(\"reviewerIDint\",\"rec_exp.asin_int\",\"rec_exp.rating\")\n",
        "nrecommendations.limit(20).show()"
      ]
    },
    {
      "cell_type": "code",
      "execution_count": null,
      "metadata": {
        "id": "APQlhPQ1XU7P"
      },
      "outputs": [],
      "source": [
        "# Show a smaple of the recommended products for a random customer\n",
        "nrecommendations.join(meta, on='asin_int').filter('reviewerIDint = 6').show()"
      ]
    },
    {
      "cell_type": "code",
      "execution_count": null,
      "metadata": {
        "id": "_fW4HIifq-3b"
      },
      "outputs": [],
      "source": [
        "# showing the reviews of that customer\n",
        "reviews.join(meta, on='asin_int').filter('reviewerIDint = 6').sort('overall', ascending=False).limit(10).show()"
      ]
    }
  ],
  "metadata": {
    "colab": {
      "collapsed_sections": [],
      "name": "Copy of BigData_FinalProject.ipynb",
      "provenance": []
    },
    "kernelspec": {
      "display_name": "Python 3",
      "name": "python3"
    },
    "language_info": {
      "name": "python"
    }
  },
  "nbformat": 4,
  "nbformat_minor": 0
}
