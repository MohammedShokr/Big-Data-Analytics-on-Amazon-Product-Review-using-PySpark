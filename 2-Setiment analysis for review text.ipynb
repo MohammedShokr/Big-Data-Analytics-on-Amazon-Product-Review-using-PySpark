{
  "cells": [
    {
      "cell_type": "markdown",
      "metadata": {},
      "source": [
        "In this notebook we are getting the sentiment analysis for each review text for each product per\n",
        "year <br>(taking into consideration only the product with high number of votes)"
      ]
    },
    {
      "cell_type": "code",
      "execution_count": null,
      "metadata": {
        "colab": {
          "base_uri": "https://localhost:8080/"
        },
        "id": "o-u5Z1G2mobA",
        "outputId": "54988f71-538e-44ef-f165-289e6a45640b"
      },
      "outputs": [
        {
          "name": "stdout",
          "output_type": "stream",
          "text": [
            "Collecting pyspark\n",
            "  Downloading pyspark-3.2.1.tar.gz (281.4 MB)\n",
            "\u001b[K     |████████████████████████████████| 281.4 MB 33 kB/s \n",
            "\u001b[?25hCollecting py4j==0.10.9.3\n",
            "  Downloading py4j-0.10.9.3-py2.py3-none-any.whl (198 kB)\n",
            "\u001b[K     |████████████████████████████████| 198 kB 41.3 MB/s \n",
            "\u001b[?25hBuilding wheels for collected packages: pyspark\n",
            "  Building wheel for pyspark (setup.py) ... \u001b[?25l\u001b[?25hdone\n",
            "  Created wheel for pyspark: filename=pyspark-3.2.1-py2.py3-none-any.whl size=281853642 sha256=c400fcaa7b339b5cc88fcbc32f5d63d9bc64f0192748675925990b8de273f83b\n",
            "  Stored in directory: /root/.cache/pip/wheels/9f/f5/07/7cd8017084dce4e93e84e92efd1e1d5334db05f2e83bcef74f\n",
            "Successfully built pyspark\n",
            "Installing collected packages: py4j, pyspark\n",
            "Successfully installed py4j-0.10.9.3 pyspark-3.2.1\n"
          ]
        }
      ],
      "source": [
        "!pip install pyspark"
      ]
    },
    {
      "cell_type": "code",
      "execution_count": null,
      "metadata": {
        "colab": {
          "base_uri": "https://localhost:8080/"
        },
        "id": "0TJ5DliBmq_K",
        "outputId": "8f5d7b2e-0d53-4c96-dd28-4a390e31256f"
      },
      "outputs": [
        {
          "name": "stdout",
          "output_type": "stream",
          "text": [
            "Mounted at /content/drive\n"
          ]
        }
      ],
      "source": [
        "from google.colab import drive\n",
        "drive.mount('/content/drive')"
      ]
    },
    {
      "cell_type": "code",
      "execution_count": null,
      "metadata": {
        "id": "hannIBFMmvFe"
      },
      "outputs": [],
      "source": [
        "from pyspark import SparkContext\n",
        "from itertools import product\n",
        "import json\n",
        "import re\n",
        "from datetime import datetime\n",
        "import numpy as np"
      ]
    },
    {
      "cell_type": "code",
      "execution_count": null,
      "metadata": {
        "id": "n5risMuPm0Rr"
      },
      "outputs": [],
      "source": [
        "sample_meta = '/content/drive/Shareddrives/CIE/BigData_Final_Project/Data/meta'\n",
        "sample = '/content/drive/Shareddrives/CIE/BigData_Final_Project/Data/reviews'"
      ]
    },
    {
      "cell_type": "code",
      "execution_count": null,
      "metadata": {
        "id": "Z9gCMBzBm1va"
      },
      "outputs": [],
      "source": [
        "# create Spark context with necessary configuration\n",
        "sc = SparkContext(\"local\",\"FinalProject\")"
      ]
    },
    {
      "cell_type": "code",
      "execution_count": null,
      "metadata": {
        "id": "Z2ch_psjoxkV"
      },
      "outputs": [],
      "source": [
        "data_meta = sc.textFile(sample_meta)\n",
        "data_review = sc.textFile(sample)"
      ]
    },
    {
      "cell_type": "markdown",
      "metadata": {
        "id": "yHmHc43bJslk"
      },
      "source": [
        "# Sentiment\n"
      ]
    },
    {
      "cell_type": "code",
      "execution_count": null,
      "metadata": {
        "colab": {
          "base_uri": "https://localhost:8080/"
        },
        "id": "TgT6a1ndwijF",
        "outputId": "e17c58b1-630d-459a-ffda-1d19082d331d"
      },
      "outputs": [
        {
          "name": "stdout",
          "output_type": "stream",
          "text": [
            "Collecting vaderSentiment\n",
            "  Downloading vaderSentiment-3.3.2-py2.py3-none-any.whl (125 kB)\n",
            "\u001b[?25l\r\u001b[K     |██▋                             | 10 kB 20.8 MB/s eta 0:00:01\r\u001b[K     |█████▏                          | 20 kB 26.4 MB/s eta 0:00:01\r\u001b[K     |███████▉                        | 30 kB 21.9 MB/s eta 0:00:01\r\u001b[K     |██████████▍                     | 40 kB 18.7 MB/s eta 0:00:01\r\u001b[K     |█████████████                   | 51 kB 19.5 MB/s eta 0:00:01\r\u001b[K     |███████████████▋                | 61 kB 16.4 MB/s eta 0:00:01\r\u001b[K     |██████████████████▏             | 71 kB 15.6 MB/s eta 0:00:01\r\u001b[K     |████████████████████▉           | 81 kB 16.7 MB/s eta 0:00:01\r\u001b[K     |███████████████████████▍        | 92 kB 16.8 MB/s eta 0:00:01\r\u001b[K     |██████████████████████████      | 102 kB 16.2 MB/s eta 0:00:01\r\u001b[K     |████████████████████████████▋   | 112 kB 16.2 MB/s eta 0:00:01\r\u001b[K     |███████████████████████████████▏| 122 kB 16.2 MB/s eta 0:00:01\r\u001b[K     |████████████████████████████████| 125 kB 16.2 MB/s \n",
            "\u001b[?25hRequirement already satisfied: requests in /usr/local/lib/python3.7/dist-packages (from vaderSentiment) (2.23.0)\n",
            "Requirement already satisfied: idna<3,>=2.5 in /usr/local/lib/python3.7/dist-packages (from requests->vaderSentiment) (2.10)\n",
            "Requirement already satisfied: certifi>=2017.4.17 in /usr/local/lib/python3.7/dist-packages (from requests->vaderSentiment) (2021.10.8)\n",
            "Requirement already satisfied: chardet<4,>=3.0.2 in /usr/local/lib/python3.7/dist-packages (from requests->vaderSentiment) (3.0.4)\n",
            "Requirement already satisfied: urllib3!=1.25.0,!=1.25.1,<1.26,>=1.21.1 in /usr/local/lib/python3.7/dist-packages (from requests->vaderSentiment) (1.24.3)\n",
            "Installing collected packages: vaderSentiment\n",
            "Successfully installed vaderSentiment-3.3.2\n"
          ]
        }
      ],
      "source": [
        "!pip install vaderSentiment"
      ]
    },
    {
      "cell_type": "code",
      "execution_count": null,
      "metadata": {
        "id": "p6BDXrJIrXrT"
      },
      "outputs": [],
      "source": [
        "from vaderSentiment.vaderSentiment import SentimentIntensityAnalyzer\n",
        "sentiments = SentimentIntensityAnalyzer()"
      ]
    },
    {
      "cell_type": "code",
      "execution_count": null,
      "metadata": {
        "id": "nk_TGn3awegJ"
      },
      "outputs": [],
      "source": [
        "def senAnalysis(txt):\n",
        "  sen_dict = sentiments.polarity_scores(txt)\n",
        "  if sen_dict['compound'] >= 0.05 :\n",
        "    return 3    #\"Positive\"\n",
        "  elif sen_dict['compound'] <= - 0.05 :\n",
        "    return 2    #\"Negative\"\n",
        "  else :\n",
        "    return 1    #\"Neutral\"\n"
      ]
    },
    {
      "cell_type": "code",
      "execution_count": null,
      "metadata": {
        "id": "8rA45JrkqGUE"
      },
      "outputs": [],
      "source": [
        "def product_rating(line):\n",
        "  line = json.loads(line)\n",
        "  return (line['asin'], line['overall'])"
      ]
    },
    {
      "cell_type": "code",
      "execution_count": null,
      "metadata": {
        "id": "aJiswbWlSE7n"
      },
      "outputs": [],
      "source": [
        "def product_time_SenAnalysis(line):\n",
        "  line = json.loads(line)\n",
        "  time = datetime.fromtimestamp(line['unixReviewTime'])\n",
        "  year = time.year\n",
        "  try:\n",
        "    senAna = senAnalysis(line['reviewText']) \n",
        "    return (line['asin'], (year,senAna))\n",
        "  except:\n",
        "    return (line['asin'], (year,4))"
      ]
    },
    {
      "cell_type": "code",
      "execution_count": null,
      "metadata": {
        "colab": {
          "base_uri": "https://localhost:8080/"
        },
        "id": "WiBWwaPueP4H",
        "outputId": "a57de0f9-a9bf-4fdb-daf2-0537bdf57a16"
      },
      "outputs": [
        {
          "data": {
            "text/plain": [
              "('0060009810', (2002, 3))"
            ]
          },
          "execution_count": 17,
          "metadata": {},
          "output_type": "execute_result"
        }
      ],
      "source": [
        "#test\n",
        "product_time_SenAnalysis(y[0])"
      ]
    },
    {
      "cell_type": "code",
      "execution_count": null,
      "metadata": {
        "id": "-7jK1qoGfr_A"
      },
      "outputs": [],
      "source": [
        "product_time_seAna = data_review.map(product_time_SenAnalysis).distinct()\n",
        "product_time_seAna.take(5)"
      ]
    },
    {
      "cell_type": "code",
      "execution_count": null,
      "metadata": {
        "id": "EBqWoxT2SE7o"
      },
      "outputs": [],
      "source": [
        "productCount = data_review.map(product_rating).groupByKey()\n",
        "productCount = productCount.map(lambda x: (x[0], len(list(x[1]))))\n",
        "productCount.take(4)"
      ]
    },
    {
      "cell_type": "code",
      "execution_count": null,
      "metadata": {
        "id": "oakbrCa4SE7p"
      },
      "outputs": [],
      "source": [
        "productRating = data_review.map(product_rating).reduceByKey(lambda a,b:a +b).sortByKey()\n",
        "productAvgRating_ = productRating.join(productCount)\n",
        "productAvgRating_.take(5)"
      ]
    },
    {
      "cell_type": "code",
      "execution_count": null,
      "metadata": {
        "id": "5beUMW-lSE7r"
      },
      "outputs": [],
      "source": [
        "productAvgRating = productAvgRating_.map(lambda x: (x[0], (x[1][1],round(x[1][0]/x[1][1],2)))).sortByKey()\n",
        "productAvgRating.take(5)"
      ]
    },
    {
      "cell_type": "code",
      "execution_count": null,
      "metadata": {
        "id": "F0EK8A8uhYTR"
      },
      "outputs": [],
      "source": [
        "productAvgRatingTimeSeAna = productAvgRating.join(product_time_seAna)\n",
        "Sorted = productAvgRatingTimeSeAna.sortByKey()\n",
        "Sorted.take(5)"
      ]
    },
    {
      "cell_type": "code",
      "execution_count": null,
      "metadata": {
        "id": "_EnWWQ1SmAxT"
      },
      "outputs": [],
      "source": [
        "productAvgRatingTimeSeAna_ = Sorted.map(lambda x: (x[0], x[1][0][0],(x[1][0][1],x[1][1][0],x[1][1][1])))\n",
        "productAvgRatingTimeSeAna_.take(5)"
      ]
    },
    {
      "cell_type": "markdown",
      "metadata": {
        "id": "fCEHQJsCSE7r"
      },
      "source": [
        "#### Modify Calculations"
      ]
    },
    {
      "cell_type": "code",
      "execution_count": null,
      "metadata": {
        "id": "GAL-BOVgmp1K"
      },
      "outputs": [],
      "source": [
        "max = productAvgRatingTimeSeAna_.max()[1]\n",
        "min = productAvgRatingTimeSeAna_.min()[1]\n",
        "part = (max+min)/4\n",
        "part"
      ]
    },
    {
      "cell_type": "markdown",
      "metadata": {
        "id": "wpbYd_7VSE7u"
      },
      "source": [
        "### Modified Product_No.ofVotes_AvgRate"
      ]
    },
    {
      "cell_type": "code",
      "execution_count": null,
      "metadata": {
        "id": "1akRb0YkSE7v"
      },
      "outputs": [],
      "source": [
        "modified_productAvgRatingTimeSeAna_ = productAvgRatingTimeSeAna_.filter(lambda x: x[1] > part).sortBy(lambda x: x[1], ascending=False)\n",
        "modified_productAvgRatingTimeSeAna_.take(5)"
      ]
    },
    {
      "cell_type": "markdown",
      "metadata": {
        "id": "b4jb70F_q0ya"
      },
      "source": [
        "### groupBy(productID) \n",
        "productID, year, sentimentAnalysis(ReviewText)"
      ]
    },
    {
      "cell_type": "code",
      "execution_count": null,
      "metadata": {
        "id": "QT5BzvXIqkXm"
      },
      "outputs": [],
      "source": [
        "byProduct = modified_productAvgRatingTimeSeAna_.groupBy(lambda x: x[0])\n",
        "byProduct.take(5)"
      ]
    },
    {
      "cell_type": "code",
      "execution_count": null,
      "metadata": {
        "id": "3wm5mvqqyssn"
      },
      "outputs": [],
      "source": [
        "def year_Avg_Rate_SeAna(line):\n",
        "  return (line[2][1],(line[2][0],line[2][2]))"
      ]
    },
    {
      "cell_type": "code",
      "execution_count": null,
      "metadata": {
        "id": "kSPrpp9-y74S"
      },
      "outputs": [],
      "source": [
        "year_Avg_Rate_SeAna(list(byProduct.take(5)[0][1])[0])"
      ]
    },
    {
      "cell_type": "code",
      "execution_count": null,
      "metadata": {
        "id": "6WZPadfg3zEV"
      },
      "outputs": [],
      "source": [
        "def year_senAna(line):\n",
        "  r = [x[1][1] for x in list(line[1])]\n",
        "  sen_ana = np.argmax([r.count(1), r.count(2), r.count(3)])\n",
        "  if sen_ana == 0:\n",
        "    sen_return = 'Neutral'\n",
        "  elif sen_ana == 1:\n",
        "    sen_return = 'Negative'\n",
        "  else: \n",
        "    sen_return = 'Positive'\n",
        "  year_return = line[0]\n",
        "\n",
        "  return (year_return, sen_return)\n",
        "\n",
        "def year_sen(line): \n",
        "  RDD = sc.parallelize(list(line[1]))\n",
        "  RDD_year = RDD.map(year_Avg_Rate_SeAna)\n",
        "  RDD_year_ = RDD_year.groupBy(lambda x: x[0])\n",
        "  xxx = RDD_year_.map(year_senAna)\n",
        "  return (line[0],xxx.collect())"
      ]
    },
    {
      "cell_type": "code",
      "execution_count": null,
      "metadata": {
        "id": "EhLFCvss8d4_"
      },
      "outputs": [],
      "source": [
        "year_sen(byProduct.take(6)[2])"
      ]
    },
    {
      "cell_type": "code",
      "execution_count": null,
      "metadata": {
        "id": "Tyz-n0bS6TGh"
      },
      "outputs": [],
      "source": [
        "RandomSample_5Product = byProduct.sample(False,5)\n",
        "Samples = RandomSample_5Product.collect()\n",
        "\n",
        "for i in range(5):\n",
        "  print(year_sen(Samples[i]))"
      ]
    }
  ],
  "metadata": {
    "colab": {
      "collapsed_sections": [
        "yHmHc43bJslk",
        "vdeMktHvQ03S"
      ],
      "name": "FinalBigData.ipynb",
      "provenance": [],
      "toc_visible": true
    },
    "kernelspec": {
      "display_name": "Python 3",
      "name": "python3"
    },
    "language_info": {
      "name": "python"
    }
  },
  "nbformat": 4,
  "nbformat_minor": 0
}
